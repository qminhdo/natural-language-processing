{
 "cells": [
  {
   "cell_type": "code",
   "execution_count": 10,
   "metadata": {},
   "outputs": [
    {
     "name": "stdout",
     "output_type": "stream",
     "text": [
      "['I', 'you', 'we', 'they', 'he', 'she', 'it', 'their', 'our', 'his', 'her', 'my', 'will', 'can', 'should', 'would']\n",
      "I PRP\n",
      "you NN\n",
      "we NN\n",
      "they NN\n",
      "he NN\n",
      "she NN\n",
      "it NN\n",
      "their NN\n",
      "our NN\n",
      "his NN\n",
      "her NN\n",
      "my NN\n",
      "will NN\n",
      "can VB\n",
      "should NN\n",
      "would NN\n",
      "[('Where', 'WRB'), ('can', 'MD'), ('I', 'PRP'), ('go', 'VB'), ('to', 'TO'), ('take', 'VB'), ('a', 'DT'), ('test', 'NN')]\n",
      "[('Where', 'WRB'), ('can', 'MD'), ('she', 'PRP'), ('go', 'VB'), ('to', 'TO'), ('take', 'VB'), ('a', 'DT'), ('test', 'NN')]\n",
      "[('What', 'WP'), ('is', 'VBZ'), ('fever', 'NN')]\n"
     ]
    }
   ],
   "source": [
    "import nltk\n",
    "words = \"\"\"\n",
    "I you we they he she it their our his her my\n",
    "will can should would  \n",
    "\n",
    "\"\"\"\n",
    "\n",
    "words = words.split()\n",
    "print(words)\n",
    "\n",
    "for w in words:\n",
    "    print(w, nltk.pos_tag(w)[0][1])\n",
    "    \n",
    "    \n",
    "sentences = \"\"\"\n",
    "Where can I go to take a test,\n",
    "Where can she go to take a test,\n",
    "What is fever\n",
    "\"\"\"\n",
    "\n",
    "sentences = sentences.split(\",\")\n",
    "for s in sentences:\n",
    "    words_list = nltk.word_tokenize(s)\n",
    "    tagged = nltk.pos_tag(words_list)\n",
    "    print(tagged)\n",
    "    "
   ]
  },
  {
   "cell_type": "code",
   "execution_count": null,
   "metadata": {},
   "outputs": [],
   "source": []
  }
 ],
 "metadata": {
  "kernelspec": {
   "display_name": "Python 3",
   "language": "python",
   "name": "python3"
  },
  "language_info": {
   "codemirror_mode": {
    "name": "ipython",
    "version": 3
   },
   "file_extension": ".py",
   "mimetype": "text/x-python",
   "name": "python",
   "nbconvert_exporter": "python",
   "pygments_lexer": "ipython3",
   "version": "3.7.4"
  }
 },
 "nbformat": 4,
 "nbformat_minor": 2
}
