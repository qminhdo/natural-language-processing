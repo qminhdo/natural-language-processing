{
 "cells": [
  {
   "cell_type": "code",
   "execution_count": 2,
   "metadata": {},
   "outputs": [
    {
     "ename": "ModuleNotFoundError",
     "evalue": "No module named 'spacy'",
     "output_type": "error",
     "traceback": [
      "\u001b[1;31m---------------------------------------------------------------------------\u001b[0m",
      "\u001b[1;31mModuleNotFoundError\u001b[0m                       Traceback (most recent call last)",
      "\u001b[1;32m<ipython-input-2-8064ce4b0a69>\u001b[0m in \u001b[0;36m<module>\u001b[1;34m\u001b[0m\n\u001b[0;32m      1\u001b[0m \u001b[1;32mfrom\u001b[0m \u001b[0mnltk\u001b[0m \u001b[1;32mimport\u001b[0m \u001b[0mtokenize\u001b[0m\u001b[1;33m\u001b[0m\u001b[1;33m\u001b[0m\u001b[0m\n\u001b[0;32m      2\u001b[0m \u001b[1;32mimport\u001b[0m \u001b[0mwarnings\u001b[0m\u001b[1;33m\u001b[0m\u001b[1;33m\u001b[0m\u001b[0m\n\u001b[1;32m----> 3\u001b[1;33m \u001b[1;32mimport\u001b[0m \u001b[0mspacy\u001b[0m\u001b[1;33m\u001b[0m\u001b[1;33m\u001b[0m\u001b[0m\n\u001b[0m\u001b[0;32m      4\u001b[0m \u001b[1;33m\u001b[0m\u001b[0m\n\u001b[0;32m      5\u001b[0m \"\"\"\n",
      "\u001b[1;31mModuleNotFoundError\u001b[0m: No module named 'spacy'"
     ]
    }
   ],
   "source": [
    "from nltk import tokenize\n",
    "import warnings\n",
    "import spacy\n",
    "\n",
    "\"\"\"\n",
    "Classify a question\n",
    "Find out the coarse and fine class of a question\n",
    "\"\"\"\n",
    "nlp = spacy.load(\"en_core_web_lg\")\n",
    "\n",
    "ENTY_dismed = open(\"../data/cogcomp/train_set/dismed.txt\").read()\n",
    "DES_def =  open(\"../data/cogcomp/train_set/def.txt\").read()\n",
    "LOC_city = open(\"../data/cogcomp/train_set/city.txt\").read()\n",
    "\n",
    "docs = {\"ENTY:dismed\": ENTY_dismed, \"DES:def\": DES_def, \"LOC:city\": LOC_city}\n",
    "labels = {}\n",
    "\n",
    "for k,v in enumerate(docs):\n",
    "    labels.update({k: nlp(v.lower())})\n",
    "\n",
    "answer_query = \"What is fever?\".lower()\n",
    "question = nlp(answer_query)\n",
    "\n",
    "result = []\n",
    "for k, label in enumerate(labels):\n",
    "    print(docs.keys()[k],label.similarity(question))\n",
    "\n"
   ]
  },
  {
   "cell_type": "code",
   "execution_count": null,
   "metadata": {},
   "outputs": [],
   "source": []
  }
 ],
 "metadata": {
  "kernelspec": {
   "display_name": "Python 3",
   "language": "python",
   "name": "python3"
  },
  "language_info": {
   "codemirror_mode": {
    "name": "ipython",
    "version": 3
   },
   "file_extension": ".py",
   "mimetype": "text/x-python",
   "name": "python",
   "nbconvert_exporter": "python",
   "pygments_lexer": "ipython3",
   "version": "3.7.4"
  }
 },
 "nbformat": 4,
 "nbformat_minor": 2
}
