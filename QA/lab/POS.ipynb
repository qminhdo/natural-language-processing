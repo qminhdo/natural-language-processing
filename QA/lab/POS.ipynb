{
 "cells": [
  {
   "cell_type": "code",
   "execution_count": 13,
   "metadata": {},
   "outputs": [
    {
     "name": "stdout",
     "output_type": "stream",
     "text": [
      "['I', 'you', 'we', 'they', 'he', 'she', 'it', 'their', 'our', 'his', 'her', 'my', 'will', 'can', 'should', 'would']\n",
      "I PRP\n",
      "you NN\n",
      "we NN\n",
      "they NN\n",
      "he NN\n",
      "she NN\n",
      "it NN\n",
      "their NN\n",
      "our NN\n",
      "his NN\n",
      "her NN\n",
      "my NN\n",
      "will NN\n",
      "can VB\n",
      "should NN\n",
      "would NN\n",
      "[('Where', 'WRB'), ('can', 'MD'), ('I', 'PRP'), ('go', 'VB'), ('to', 'TO'), ('take', 'VB'), ('a', 'DT'), ('test', 'NN')]\n",
      "[('Where', 'WRB'), ('can', 'MD'), ('she', 'PRP'), ('go', 'VB'), ('to', 'TO'), ('take', 'VB'), ('a', 'DT'), ('test', 'NN')]\n",
      "[('What', 'WP'), ('is', 'VBZ'), ('fever', 'NN')]\n",
      "[('Are', 'NNP'), ('prolapsed', 'JJ'), ('bladders', 'NNS'), ('linked', 'VBN'), ('with', 'IN'), ('menopause', 'NN')]\n",
      "[('Should', 'MD'), ('you', 'PRP'), ('avoid', 'VB'), ('taking', 'VBG'), ('aspirin', 'JJ')]\n"
     ]
    }
   ],
   "source": [
    "import nltk\n",
    "words = \"\"\"\n",
    "I you we they he she it their our his her my\n",
    "will can should would  \n",
    "\n",
    "\"\"\"\n",
    "\n",
    "words = words.split()\n",
    "print(words)\n",
    "\n",
    "for w in words:\n",
    "    print(w, nltk.pos_tag(w)[0][1])\n",
    "    \n",
    "    \n",
    "sentences = \"\"\"\n",
    "Where can I go to take a test,\n",
    "Where can she go to take a test,\n",
    "What is fever,\n",
    "Are prolapsed bladders linked with menopause,\n",
    "Should you avoid taking aspirin\n",
    "\"\"\"\n",
    "\n",
    "sentences = sentences.split(\",\")\n",
    "for s in sentences:\n",
    "    words_list = nltk.word_tokenize(s)\n",
    "    tagged = nltk.pos_tag(words_list)\n",
    "    print(tagged)\n",
    "    "
   ]
  },
  {
   "cell_type": "code",
   "execution_count": 15,
   "metadata": {},
   "outputs": [
    {
     "name": "stdout",
     "output_type": "stream",
     "text": [
      "{'ourselves', 'yourself', \"that'll\", 'were', 'does', 'd', 'at', \"wouldn't\", 'by', 'only', 'me', 'so', 'ma', 'yourselves', 'theirs', 'below', 'before', 'out', 'itself', 't', 'which', 'll', 'in', 'or', 'your', \"it's\", 'do', 'between', 'won', 'up', 'was', 'you', 'each', 'am', 'weren', 'other', 'and', 'most', 'shan', 'herself', \"doesn't\", 'while', 'where', 'about', \"isn't\", 'again', 'what', 'to', 'no', \"shan't\", 'didn', \"couldn't\", 'if', 'hers', \"mustn't\", \"hasn't\", \"haven't\", 'the', \"didn't\", 'a', 'such', 'with', 's', 'above', 'myself', 'these', 'for', 'wouldn', 'be', 'being', 'some', 'any', 'couldn', 'mightn', 'how', 'ain', 'same', 'he', 'y', 'both', 'from', 'hasn', 'this', 'yours', 'during', 'themselves', 'there', 'too', 'had', 'off', 'doesn', 'been', 'those', 'she', 'when', 're', 'here', 'shouldn', 'our', 'all', 'of', 'into', 'through', 'mustn', 'are', 'did', 'nor', \"hadn't\", \"you'll\", 'himself', \"shouldn't\", 'who', 'aren', 'why', 'an', \"you're\", \"mightn't\", 'her', \"needn't\", 'own', 'their', 'it', 'as', 'its', 'o', 'more', 'isn', \"don't\", 'under', 'his', 'can', 'once', \"aren't\", 'doing', 'over', 'hadn', 'i', 'is', 'him', \"wasn't\", 'on', 'm', \"weren't\", 'than', 'that', 'don', 'haven', 'very', \"should've\", 'few', 'has', \"won't\", 've', 'wasn', \"you've\", 'we', 'now', 'will', 'down', 'not', 'they', 'having', 'against', 'should', 'my', \"she's\", 'have', 'until', 'just', 'ours', 'them', 'needn', 'but', \"you'd\", 'after', 'further', 'then', 'because', 'whom'}\n"
     ]
    }
   ],
   "source": [
    "from nltk.corpus import stopwords\n",
    "stop_words = set(stopwords.words('english'))\n",
    "print(stop_words)"
   ]
  },
  {
   "cell_type": "code",
   "execution_count": null,
   "metadata": {},
   "outputs": [],
   "source": []
  }
 ],
 "metadata": {
  "kernelspec": {
   "display_name": "Python 3",
   "language": "python",
   "name": "python3"
  },
  "language_info": {
   "codemirror_mode": {
    "name": "ipython",
    "version": 3
   },
   "file_extension": ".py",
   "mimetype": "text/x-python",
   "name": "python",
   "nbconvert_exporter": "python",
   "pygments_lexer": "ipython3",
   "version": "3.7.4"
  }
 },
 "nbformat": 4,
 "nbformat_minor": 2
}
