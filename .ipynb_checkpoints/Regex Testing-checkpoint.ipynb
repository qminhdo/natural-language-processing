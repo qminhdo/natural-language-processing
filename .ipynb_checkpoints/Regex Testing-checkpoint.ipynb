{
 "cells": [
  {
   "cell_type": "markdown",
   "metadata": {},
   "source": [
    "#### Conert any ; or , to a unordered list"
   ]
  },
  {
   "cell_type": "code",
   "execution_count": 70,
   "metadata": {},
   "outputs": [
    {
     "name": "stdout",
     "output_type": "stream",
     "text": [
      "If you have this type of reaction , you should never again take any medicine that contains acetaminophen stop taking acetaminophen and call your doctor at once if you have :\n",
      "\t- Nausea , upper stomach pain , itching , loss of appetite\n",
      "\t- Excessive sweating and severe tiredness\n",
      "\t- Dark urine , clay-colored stools\n",
      "\t- Orjaundice ( yellowing of the skin or eyes )  the most common side effects of acetaminophen include : nausea and vomiting\n",
      "\t- Headache\n",
      "\t- Orinsomniathis is not a complete list of side effects and others may occur\n",
      "\n",
      "Hay fever signs and symptoms can include :\n",
      "\t- Runny nose and nasal congestion\n",
      "\t- Watery\n",
      "\t- Itchy\n",
      "\t- Red eyes ( allergic conjunctivitis )\n",
      "\t- Sneezing\n",
      "\t- Cough\n",
      "\t- Itchy nose\n",
      "\t- Roof of mouth or throat\n",
      "\t- Swollen\n",
      "\t- Blue-colored skin under the eyes ( allergic shiners )\n",
      "\t- Postnasal drip\n",
      "\t- Fatigue\n",
      "\n",
      "\n"
     ]
    }
   ],
   "source": [
    "import re\n",
    "answer = \"\" \n",
    "    \n",
    "ps = [[\"If you have this type of reaction , you should never again take any medicine that contains acetaminophen stop taking acetaminophen and call your doctor at once if you have : nausea , upper stomach pain , itching , loss of appetite ; excessive sweating and severe tiredness ; dark urine , clay-colored stools ; orjaundice ( yellowing of the skin or eyes )  the most common side effects of acetaminophen include : nausea and vomiting ; headache ; orinsomniathis is not a complete list of side effects and others may occur.\", \"123\"],\n",
    "     [\"Hay fever signs and symptoms can include : runny nose and nasal congestion , watery , itchy , red eyes ( allergic conjunctivitis ) , sneezing , cough , itchy nose , roof of mouth or throat , swollen , blue-colored skin under the eyes ( allergic shiners ) , postnasal drip , fatigue .\", \"123\"]]\n",
    "\n",
    "\n",
    "for ps_ in ps:\n",
    "    ans = ps_[0].capitalize()\n",
    "    ans = re.sub(r'\\.', ' ', ans)\n",
    "    ans = re.sub(r',$', '', ans)\n",
    "    ans += '.\\n\\n'\n",
    "    \n",
    "    # format the answer such that for there will be a list after \":\"\n",
    "\n",
    "    r = re.compile(r':\\s?(?P<section>.*)\\s?\\.', re.IGNORECASE)\n",
    "    match = r.search(ans, re.IGNORECASE)\n",
    "    section = \"\"\n",
    "\n",
    "    if match:\n",
    "        section = match.groupdict().get('section').strip()\n",
    "        # print(section)\n",
    "        # check if section contain child list\n",
    "        r_ = re.compile(r'(;)', re.IGNORECASE)\n",
    "        match_ = r_.search(ans, re.IGNORECASE)\n",
    "        \n",
    "        if match_:\n",
    "            # if section contain \";\", put every \";\" to a bullet point\n",
    "            sents_list = section.split(\";\")\n",
    "            sents_list = [sent.strip().capitalize() for sent in sents_list]\n",
    "            sents_list[0] = \":\\n\\t- \" + sents_list[0]\n",
    "            section = \"\\n\\t- \".join(sents_list)\n",
    "            \n",
    "            \n",
    "        else:\n",
    "            # if section doesn't contain \";\", simpluy put very \",\" to a bullet point\n",
    "            sents_list = section.split(\",\")\n",
    "            sents_list = [sent.strip().capitalize() for sent in sents_list]\n",
    "            sents_list[0] = \":\\n\\t- \" + sents_list[0]\n",
    "            section = \"\\n\\t- \".join(sents_list)\n",
    "                   \n",
    "                 \n",
    "        pattern = r'{}'.format(match.groupdict().get('section'))    \n",
    "        ans = re.sub(r, section, ans)    \n",
    "    answer += ans\n",
    "\n",
    "print(answer)\n"
   ]
  }
 ],
 "metadata": {
  "kernelspec": {
   "display_name": "Python 3",
   "language": "python",
   "name": "python3"
  },
  "language_info": {
   "codemirror_mode": {
    "name": "ipython",
    "version": 3
   },
   "file_extension": ".py",
   "mimetype": "text/x-python",
   "name": "python",
   "nbconvert_exporter": "python",
   "pygments_lexer": "ipython3",
   "version": "3.7.4"
  }
 },
 "nbformat": 4,
 "nbformat_minor": 2
}
